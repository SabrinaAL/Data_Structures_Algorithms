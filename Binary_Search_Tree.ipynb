{
 "cells": [
  {
   "cell_type": "code",
   "execution_count": 1,
   "metadata": {},
   "outputs": [],
   "source": [
    "class Node:\n",
    "    def __init__(self, val):\n",
    "        self.val = val\n",
    "        self.right = None\n",
    "        self.left = None\n",
    "        \n",
    "    def insert(self, value):\n",
    "        if self is None:\n",
    "            self = Node(value)\n",
    "            return \n",
    "        \n",
    "        if self.val < value:\n",
    "            if self.right:\n",
    "                self.right.insert(value)\n",
    "            else: \n",
    "                self.right = Node(value)\n",
    "                return \n",
    "        else: \n",
    "            if self.left:\n",
    "                self.left.insert(value)\n",
    "            else: \n",
    "                self.left = Node(value)\n",
    "                return\n",
    "                        \n",
    "            \n",
    "    def search(self, value):\n",
    "        if self is None:\n",
    "            return False\n",
    "\n",
    "        if self.val < value:\n",
    "            if self.right:\n",
    "                return self.right.search(value)\n",
    "            else: return False\n",
    "\n",
    "        elif self.val > value:\n",
    "            if self.left:\n",
    "                return self.left.search(value)\n",
    "            else: return False\n",
    "\n",
    "        else: \n",
    "            return True\n",
    "        return False\n",
    "    \n",
    "    def delete(self, value):\n",
    "        \n",
    "        if self.val > value:\n",
    "            if self.left:\n",
    "                self.left = self.left.delete(value)\n",
    "            else: \n",
    "                print(\"Value does not exist\")\n",
    "                return \n",
    "            \n",
    "        elif self.val < value:\n",
    "            if self.right:\n",
    "                self.right = self.right.delete(value)\n",
    "            else: \n",
    "                print(\"Value does not exist\")\n",
    "                \n",
    "                return \n",
    "            \n",
    "        else:\n",
    "            \n",
    "            if self.right is None and self.left is None:\n",
    "                self = None\n",
    "                return None\n",
    "            elif self.right and self.left is None:\n",
    "                temp = self\n",
    "                self = self.right\n",
    "                self.right = None\n",
    "            \n",
    "            elif self.left and self.right is None:\n",
    "                temp = self\n",
    "                self = self.left\n",
    "                self.left = None\n",
    "            else:\n",
    "                current = self.left\n",
    "                while current.right:\n",
    "                    current = current.right\n",
    "                \n",
    "                self.val = current.val\n",
    "                self.left = self.left.delete(current.val)\n",
    "                \n",
    "        return self"
   ]
  },
  {
   "cell_type": "code",
   "execution_count": 2,
   "metadata": {},
   "outputs": [],
   "source": [
    "                \n",
    "                \n",
    "def bfs(root):\n",
    "\n",
    "    queue = []\n",
    "    queue.insert(0, root)\n",
    "    result = []\n",
    "    while queue:\n",
    "        \n",
    "        n = len(queue)\n",
    "        temp_list = []\n",
    "        for _ in range(n):\n",
    "            \n",
    "            current_node = queue.pop()\n",
    "            temp_list.append(current_node.val)\n",
    "\n",
    "            if current_node.left:\n",
    "                queue.insert(0, current_node.left)\n",
    "\n",
    "            if current_node.right:\n",
    "                queue.insert(0, current_node.right)\n",
    "        result.append(list(temp_list))\n",
    "    return result\n",
    "\n",
    "\n",
    "def in_order(root):\n",
    "    \n",
    "    if root:\n",
    "        \n",
    "        in_order(root.left)\n",
    "        print(root.val)\n",
    "        in_order(root.right)\n",
    "        \n",
    "\n",
    "def pre_order(root):\n",
    "    \n",
    "    if root:\n",
    "        \n",
    "        print(root.val)\n",
    "        pre_order(root.left)\n",
    "        pre_order(root.right)\n",
    "        \n",
    "\n",
    "def post_order(root):\n",
    "    \n",
    "    if root:\n",
    "        \n",
    "        post_order(root.left)\n",
    "        post_order(root.right)\n",
    "        print(root.val)\n",
    "        \n",
    "   \n",
    "            "
   ]
  },
  {
   "cell_type": "code",
   "execution_count": null,
   "metadata": {},
   "outputs": [],
   "source": []
  },
  {
   "cell_type": "code",
   "execution_count": 3,
   "metadata": {},
   "outputs": [],
   "source": [
    "BST = Node(6)\n",
    "BST.insert(4)\n",
    "BST.insert(9)\n",
    "BST.insert(5)\n",
    "BST.insert(2)\n",
    "BST.insert(8)\n",
    "BST.insert(12)\n"
   ]
  },
  {
   "cell_type": "code",
   "execution_count": 4,
   "metadata": {},
   "outputs": [
    {
     "data": {
      "text/plain": [
       "[[6], [4, 9], [2, 5, 8, 12]]"
      ]
     },
     "execution_count": 4,
     "metadata": {},
     "output_type": "execute_result"
    }
   ],
   "source": [
    "bfs(BST)"
   ]
  },
  {
   "cell_type": "code",
   "execution_count": 5,
   "metadata": {},
   "outputs": [
    {
     "name": "stdout",
     "output_type": "stream",
     "text": [
      "6\n",
      "4\n",
      "2\n",
      "5\n",
      "9\n",
      "8\n",
      "12\n"
     ]
    }
   ],
   "source": [
    "pre_order(BST)"
   ]
  },
  {
   "cell_type": "code",
   "execution_count": 6,
   "metadata": {},
   "outputs": [
    {
     "name": "stdout",
     "output_type": "stream",
     "text": [
      "2\n",
      "4\n",
      "5\n",
      "6\n",
      "8\n",
      "9\n",
      "12\n"
     ]
    }
   ],
   "source": [
    "in_order(BST)"
   ]
  },
  {
   "cell_type": "code",
   "execution_count": 7,
   "metadata": {},
   "outputs": [
    {
     "name": "stdout",
     "output_type": "stream",
     "text": [
      "2\n",
      "5\n",
      "4\n",
      "8\n",
      "12\n",
      "9\n",
      "6\n"
     ]
    }
   ],
   "source": [
    "post_order(BST)"
   ]
  },
  {
   "cell_type": "code",
   "execution_count": 10,
   "metadata": {},
   "outputs": [
    {
     "data": {
      "text/plain": [
       "True"
      ]
     },
     "execution_count": 10,
     "metadata": {},
     "output_type": "execute_result"
    }
   ],
   "source": [
    "BST.search(8)"
   ]
  },
  {
   "cell_type": "code",
   "execution_count": 11,
   "metadata": {},
   "outputs": [
    {
     "data": {
      "text/plain": [
       "<__main__.Node at 0x7ff134438370>"
      ]
     },
     "execution_count": 11,
     "metadata": {},
     "output_type": "execute_result"
    }
   ],
   "source": [
    "BST.delete(8)"
   ]
  },
  {
   "cell_type": "code",
   "execution_count": 12,
   "metadata": {},
   "outputs": [
    {
     "data": {
      "text/plain": [
       "[[6], [4, 9], [2, 5]]"
      ]
     },
     "execution_count": 12,
     "metadata": {},
     "output_type": "execute_result"
    }
   ],
   "source": [
    "bfs(BST)"
   ]
  },
  {
   "cell_type": "code",
   "execution_count": null,
   "metadata": {},
   "outputs": [],
   "source": []
  }
 ],
 "metadata": {
  "kernelspec": {
   "display_name": "Python 3",
   "language": "python",
   "name": "python3"
  },
  "language_info": {
   "codemirror_mode": {
    "name": "ipython",
    "version": 3
   },
   "file_extension": ".py",
   "mimetype": "text/x-python",
   "name": "python",
   "nbconvert_exporter": "python",
   "pygments_lexer": "ipython3",
   "version": "3.8.3"
  }
 },
 "nbformat": 4,
 "nbformat_minor": 4
}
